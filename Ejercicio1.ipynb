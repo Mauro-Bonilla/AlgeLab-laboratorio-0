{
 "cells": [
  {
   "cell_type": "markdown",
   "metadata": {},
   "source": [
    "# Tutorial Básico de Python 🐍\n",
    "## AlgeLab - Introducción a la Programación"
   ]
  },
  {
   "cell_type": "markdown",
   "metadata": {},
   "source": [
    "# Fundamentos de Python para Álgebra Lineal\n",
    "## Módulo Introductorio - AlgeLab\n",
    "\n",
    "### Guía de Uso de Jupyter Notebooks\n",
    "\n",
    "Bienvenido a AlgeLab. Antes de comenzar, es importante que conozcas cómo utilizar este entorno de trabajo:\n",
    "\n",
    "1. **Estructura de un Notebook**\n",
    "   - Un notebook está formado por celdas que pueden contener texto (como esta) o código\n",
    "   - Las celdas de texto usan formato Markdown para mejor legibilidad\n",
    "   - Las celdas de código contienen Python y se pueden ejecutar\n",
    "\n",
    "2. **Cómo Ejecutar Código**\n",
    "   - Para ejecutar una celda de código, selecciónala y presiona `Shift + Enter`\n",
    "   - También puedes usar el botón ▶️ en la barra de herramientas\n",
    "   - El número entre corchetes `[1]` indica el orden de ejecución\n",
    "   - Si ves `[*]`, significa que la celda está en proceso de ejecución\n",
    "\n",
    "3. **Indicadores de Estado**\n",
    "   - Una celda sin ejecutar no tiene número\n",
    "   - Una celda ejecutada muestra su resultado debajo del código\n",
    "   - Si hay un error, aparecerá en texto rojo\n",
    "\n",
    "4. **Consejos Importantes**\n",
    "   - Ejecuta las celdas en orden, de arriba hacia abajo\n",
    "   - Puedes editar y reejecutar una celda las veces que necesites\n",
    "   - Si te equivocas, puedes reiniciar el kernel usando el menú \"Kernel\" -> \"Restart\""
   ]
  },
  {
   "cell_type": "markdown",
   "metadata": {},
   "source": [
    "### 1. Variables y Tipos Básicos"
   ]
  },
  {
   "cell_type": "markdown",
   "metadata": {},
   "source": [
    "\n",
    "En Python, las variables son referencias a valores almacenados en memoria. Los tipos básicos incluyen:"
   ]
  },
  {
   "cell_type": "code",
   "execution_count": 11,
   "metadata": {},
   "outputs": [],
   "source": [
    "# Números\n",
    "entero = 42                # Tipo: int (número entero)\n",
    "decimal = 3.14159          # Tipo: float (número decimal)\n",
    "\n",
    "# Texto\n",
    "mensaje = \"Hola AlgeLab\"   # Tipo: str (cadena de texto)\n",
    "\n",
    "# Valores lógicos\n",
    "verdadero = True          # Tipo: bool (booleano)\n",
    "falso = False"
   ]
  },
  {
   "cell_type": "code",
   "execution_count": 12,
   "metadata": {},
   "outputs": [
    {
     "name": "stdout",
     "output_type": "stream",
     "text": [
      "Entero: 42, Tipo: <class 'int'>\n",
      "Decimal: 3.14159, Tipo: <class 'float'>\n",
      "Mensaje: Hola AlgeLab, Tipo: <class 'str'>\n",
      "Booleano: True, Tipo: <class 'bool'>\n"
     ]
    }
   ],
   "source": [
    "# Visualización de variables y sus tipos\n",
    "print(f\"Entero: {entero}, Tipo: {type(entero)}\")\n",
    "print(f\"Decimal: {decimal}, Tipo: {type(decimal)}\")\n",
    "print(f\"Mensaje: {mensaje}, Tipo: {type(mensaje)}\")\n",
    "print(f\"Booleano: {verdadero}, Tipo: {type(verdadero)}\")"
   ]
  },
  {
   "cell_type": "code",
   "execution_count": null,
   "metadata": {},
   "outputs": [],
   "source": []
  }
 ],
 "metadata": {
  "kernelspec": {
   "display_name": "Python 3",
   "language": "python",
   "name": "python3"
  },
  "language_info": {
   "codemirror_mode": {
    "name": "ipython",
    "version": 3
   },
   "file_extension": ".py",
   "mimetype": "text/x-python",
   "name": "python",
   "nbconvert_exporter": "python",
   "pygments_lexer": "ipython3",
   "version": "3.11.10"
  }
 },
 "nbformat": 4,
 "nbformat_minor": 2
}
