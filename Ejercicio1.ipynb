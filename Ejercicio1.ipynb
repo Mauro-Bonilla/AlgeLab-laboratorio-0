{
 "cells": [
  {
   "cell_type": "markdown",
   "metadata": {},
   "source": [
    "# Tutorial Básico de Python 🐍"
   ]
  },
  {
   "cell_type": "markdown",
   "metadata": {},
   "source": [
    "## Fundamentos de Python para Álgebra Lineal\n"
   ]
  },
  {
   "cell_type": "markdown",
   "metadata": {},
   "source": [
    "### Módulo Introductorio - AlgeLab\n"
   ]
  },
  {
   "cell_type": "markdown",
   "metadata": {},
   "source": [
    "#### Guía de Uso de Jupyter Notebooks"
   ]
  },
  {
   "cell_type": "markdown",
   "metadata": {},
   "source": [
    "Bienvenido a AlgeLab. Antes de comenzar, es importante que conozcas cómo utilizar este entorno de trabajo:\n",
    "\n",
    "1. **Estructura de un Notebook**\n",
    "   - Un notebook está formado por celdas que pueden contener texto (como esta) o código\n",
    "   - Las celdas de texto usan formato Markdown para mejor legibilidad\n",
    "   - Las celdas de código contienen Python y se pueden ejecutar\n",
    "\n",
    "2. **Cómo Ejecutar Código**\n",
    "   - Para ejecutar una celda de código, selecciónala y presiona `Shift + Enter`\n",
    "   - También puedes usar el botón ▶️ en la barra de herramientas\n",
    "   - El número entre corchetes `[1]` indica el orden de ejecución\n",
    "   - Si ves `[*]`, significa que la celda está en proceso de ejecución\n",
    "\n",
    "3. **Indicadores de Estado**\n",
    "   - Una celda sin ejecutar no tiene número\n",
    "   - Una celda ejecutada muestra su resultado debajo del código\n",
    "   - Si hay un error, aparecerá en texto rojo\n",
    "\n",
    "4. **Consejos Importantes**\n",
    "   - Ejecuta las celdas en orden, de arriba hacia abajo\n",
    "   - Puedes editar y reejecutar una celda las veces que necesites\n",
    "   - Si te equivocas, puedes reiniciar el kernel usando el menú \"Kernel\" -> \"Restart\""
   ]
  },
  {
   "cell_type": "markdown",
   "metadata": {},
   "source": [
    "### 1. Variables y Tipos Básicos"
   ]
  },
  {
   "cell_type": "markdown",
   "metadata": {},
   "source": [
    "\n",
    "En Python, las variables son referencias a valores almacenados en memoria. Los tipos básicos incluyen:"
   ]
  },
  {
   "cell_type": "code",
   "execution_count": 11,
   "metadata": {},
   "outputs": [],
   "source": [
    "# Números\n",
    "entero = 42                # Tipo: int (número entero)\n",
    "decimal = 3.14159          # Tipo: float (número decimal)\n",
    "\n",
    "# Texto\n",
    "mensaje = \"Hola AlgeLab\"   # Tipo: str (cadena de texto)\n",
    "\n",
    "# Valores lógicos\n",
    "verdadero = True          # Tipo: bool (booleano)\n",
    "falso = False"
   ]
  },
  {
   "cell_type": "code",
   "execution_count": 12,
   "metadata": {},
   "outputs": [
    {
     "name": "stdout",
     "output_type": "stream",
     "text": [
      "Entero: 42, Tipo: <class 'int'>\n",
      "Decimal: 3.14159, Tipo: <class 'float'>\n",
      "Mensaje: Hola AlgeLab, Tipo: <class 'str'>\n",
      "Booleano: True, Tipo: <class 'bool'>\n"
     ]
    }
   ],
   "source": [
    "# Visualización de variables y sus tipos\n",
    "print(f\"Entero: {entero}, Tipo: {type(entero)}\")\n",
    "print(f\"Decimal: {decimal}, Tipo: {type(decimal)}\")\n",
    "print(f\"Mensaje: {mensaje}, Tipo: {type(mensaje)}\")\n",
    "print(f\"Booleano: {verdadero}, Tipo: {type(verdadero)}\")"
   ]
  },
  {
   "cell_type": "markdown",
   "metadata": {},
   "source": [
    "### 3. Operaciones Matemáticas Fundamentales\n",
    "\n",
    "\n",
    "Python permite realizar operaciones matemáticas de forma intuitiva:"
   ]
  },
  {
   "cell_type": "code",
   "execution_count": 1,
   "metadata": {},
   "outputs": [],
   "source": [
    "# Definimos dos números\n",
    "a = 15\n",
    "b = 4\n",
    "\n",
    "# Operaciones básicas\n",
    "suma = a + b              # Suma\n",
    "resta = a - b             # Resta\n",
    "multiplicacion = a * b    # Multiplicación\n",
    "division = a / b          # División (resultado decimal)\n",
    "division_entera = a // b  # División entera\n",
    "modulo = a % b           # Módulo (resto de la división)\n",
    "potencia = a ** 2        # Potenciación"
   ]
  },
  {
   "cell_type": "code",
   "execution_count": 2,
   "metadata": {},
   "outputs": [
    {
     "name": "stdout",
     "output_type": "stream",
     "text": [
      "Suma: 19\n",
      "Resta: 11\n",
      "Multiplicación: 60\n",
      "División: 3.75\n",
      "División entera: 3\n",
      "Módulo: 3\n",
      "Potencia: 225\n"
     ]
    }
   ],
   "source": [
    "# Visualización de resultados\n",
    "print(f\"Suma: {suma}\")\n",
    "print(f\"Resta: {resta}\")\n",
    "print(f\"Multiplicación: {multiplicacion}\")\n",
    "print(f\"División: {division}\")\n",
    "print(f\"División entera: {division_entera}\")\n",
    "print(f\"Módulo: {modulo}\")\n",
    "print(f\"Potencia: {potencia}\")"
   ]
  },
  {
   "cell_type": "markdown",
   "metadata": {},
   "source": [
    "### 4. Estructuras de Datos: Listas\n",
    "\n",
    "Las listas son estructuras fundamentales que permiten almacenar secuencias ordenadas de elementos:"
   ]
  },
  {
   "cell_type": "code",
   "execution_count": null,
   "metadata": {},
   "outputs": [],
   "source": [
    "# Creación de una lista\n",
    "numeros = [1, 2, 3, 4, 5]"
   ]
  },
  {
   "cell_type": "code",
   "execution_count": 3,
   "metadata": {},
   "outputs": [],
   "source": [
    "# Acceso a elementos\n",
    "primer_elemento = numeros[0]      # Índices comienzan en 0\n",
    "ultimo_elemento = numeros[-1]     # Índice negativo accede desde el final\n",
    "\n",
    "# Modificación de elementos\n",
    "numeros[2] = 10                   # Cambia el tercer elemento"
   ]
  },
  {
   "cell_type": "code",
   "execution_count": 4,
   "metadata": {},
   "outputs": [
    {
     "name": "stdout",
     "output_type": "stream",
     "text": [
      "Lista completa: [1, 2, 10, 4, 5]\n",
      "Primer elemento: 1\n",
      "Último elemento: 5\n"
     ]
    }
   ],
   "source": [
    "print(f\"Lista completa: {numeros}\")\n",
    "print(f\"Primer elemento: {primer_elemento}\")\n",
    "print(f\"Último elemento: {ultimo_elemento}\")"
   ]
  },
  {
   "cell_type": "markdown",
   "metadata": {},
   "source": [
    "### 5. Ejercicios de Práctica"
   ]
  },
  {
   "cell_type": "markdown",
   "metadata": {},
   "source": [
    "#### Crear variables y realizar operaciones básicas:"
   ]
  },
  {
   "cell_type": "markdown",
   "metadata": {},
   "source": [
    "#### Ejercicio 1: Calcular el área de un triángulo"
   ]
  },
  {
   "cell_type": "code",
   "execution_count": 1,
   "metadata": {},
   "outputs": [],
   "source": [
    "# Ejercicio 1: Calcular el área de un triángulo"
   ]
  },
  {
   "cell_type": "markdown",
   "metadata": {},
   "source": [
    "#### Ejercicio 1: Calcular el área de un triángulo"
   ]
  },
  {
   "cell_type": "code",
   "execution_count": 2,
   "metadata": {},
   "outputs": [],
   "source": [
    "# Ejercicio 2: Crear y modificar una lista"
   ]
  }
 ],
 "metadata": {
  "kernelspec": {
   "display_name": "Python 3",
   "language": "python",
   "name": "python3"
  },
  "language_info": {
   "codemirror_mode": {
    "name": "ipython",
    "version": 3
   },
   "file_extension": ".py",
   "mimetype": "text/x-python",
   "name": "python",
   "nbconvert_exporter": "python",
   "pygments_lexer": "ipython3",
   "version": "3.11.10"
  }
 },
 "nbformat": 4,
 "nbformat_minor": 2
}
